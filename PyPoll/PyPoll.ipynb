{
 "cells": [
  {
   "cell_type": "code",
   "execution_count": 1,
   "id": "2b7c4d72",
   "metadata": {},
   "outputs": [
    {
     "data": {
      "text/html": [
       "<div>\n",
       "<style scoped>\n",
       "    .dataframe tbody tr th:only-of-type {\n",
       "        vertical-align: middle;\n",
       "    }\n",
       "\n",
       "    .dataframe tbody tr th {\n",
       "        vertical-align: top;\n",
       "    }\n",
       "\n",
       "    .dataframe thead th {\n",
       "        text-align: right;\n",
       "    }\n",
       "</style>\n",
       "<table border=\"1\" class=\"dataframe\">\n",
       "  <thead>\n",
       "    <tr style=\"text-align: right;\">\n",
       "      <th></th>\n",
       "      <th>Ballot ID</th>\n",
       "      <th>County</th>\n",
       "      <th>Candidate</th>\n",
       "    </tr>\n",
       "  </thead>\n",
       "  <tbody>\n",
       "    <tr>\n",
       "      <th>0</th>\n",
       "      <td>1323913</td>\n",
       "      <td>Jefferson</td>\n",
       "      <td>Charles Casper Stockham</td>\n",
       "    </tr>\n",
       "    <tr>\n",
       "      <th>1</th>\n",
       "      <td>1005842</td>\n",
       "      <td>Jefferson</td>\n",
       "      <td>Charles Casper Stockham</td>\n",
       "    </tr>\n",
       "    <tr>\n",
       "      <th>2</th>\n",
       "      <td>1880345</td>\n",
       "      <td>Jefferson</td>\n",
       "      <td>Charles Casper Stockham</td>\n",
       "    </tr>\n",
       "    <tr>\n",
       "      <th>3</th>\n",
       "      <td>1600337</td>\n",
       "      <td>Jefferson</td>\n",
       "      <td>Charles Casper Stockham</td>\n",
       "    </tr>\n",
       "    <tr>\n",
       "      <th>4</th>\n",
       "      <td>1835994</td>\n",
       "      <td>Jefferson</td>\n",
       "      <td>Charles Casper Stockham</td>\n",
       "    </tr>\n",
       "    <tr>\n",
       "      <th>...</th>\n",
       "      <td>...</td>\n",
       "      <td>...</td>\n",
       "      <td>...</td>\n",
       "    </tr>\n",
       "    <tr>\n",
       "      <th>369706</th>\n",
       "      <td>4714953</td>\n",
       "      <td>Arapahoe</td>\n",
       "      <td>Raymon Anthony Doane</td>\n",
       "    </tr>\n",
       "    <tr>\n",
       "      <th>369707</th>\n",
       "      <td>4497542</td>\n",
       "      <td>Arapahoe</td>\n",
       "      <td>Raymon Anthony Doane</td>\n",
       "    </tr>\n",
       "    <tr>\n",
       "      <th>369708</th>\n",
       "      <td>4085849</td>\n",
       "      <td>Arapahoe</td>\n",
       "      <td>Raymon Anthony Doane</td>\n",
       "    </tr>\n",
       "    <tr>\n",
       "      <th>369709</th>\n",
       "      <td>4592018</td>\n",
       "      <td>Arapahoe</td>\n",
       "      <td>Raymon Anthony Doane</td>\n",
       "    </tr>\n",
       "    <tr>\n",
       "      <th>369710</th>\n",
       "      <td>4660518</td>\n",
       "      <td>Arapahoe</td>\n",
       "      <td>Raymon Anthony Doane</td>\n",
       "    </tr>\n",
       "  </tbody>\n",
       "</table>\n",
       "<p>369711 rows × 3 columns</p>\n",
       "</div>"
      ],
      "text/plain": [
       "        Ballot ID     County                Candidate\n",
       "0         1323913  Jefferson  Charles Casper Stockham\n",
       "1         1005842  Jefferson  Charles Casper Stockham\n",
       "2         1880345  Jefferson  Charles Casper Stockham\n",
       "3         1600337  Jefferson  Charles Casper Stockham\n",
       "4         1835994  Jefferson  Charles Casper Stockham\n",
       "...           ...        ...                      ...\n",
       "369706    4714953   Arapahoe     Raymon Anthony Doane\n",
       "369707    4497542   Arapahoe     Raymon Anthony Doane\n",
       "369708    4085849   Arapahoe     Raymon Anthony Doane\n",
       "369709    4592018   Arapahoe     Raymon Anthony Doane\n",
       "369710    4660518   Arapahoe     Raymon Anthony Doane\n",
       "\n",
       "[369711 rows x 3 columns]"
      ]
     },
     "execution_count": 1,
     "metadata": {},
     "output_type": "execute_result"
    }
   ],
   "source": [
    "#import dependencies\n",
    "import pandas as pd\n",
    "\n",
    "poll_df = pd.read_csv('election_data.csv')\n",
    "poll_df"
   ]
  },
  {
   "cell_type": "code",
   "execution_count": 4,
   "id": "30fe2553",
   "metadata": {},
   "outputs": [
    {
     "name": "stdout",
     "output_type": "stream",
     "text": [
      "Total Votes: 369711\n"
     ]
    }
   ],
   "source": [
    "#count number of votes\n",
    "vote_count = poll_df['Ballot ID'].count()\n",
    "\n",
    "print(f'Total Votes: {vote_count}')"
   ]
  },
  {
   "cell_type": "code",
   "execution_count": 6,
   "id": "6974e3c4",
   "metadata": {},
   "outputs": [
    {
     "name": "stdout",
     "output_type": "stream",
     "text": [
      "['Charles Casper Stockham' 'Diana DeGette' 'Raymon Anthony Doane']\n",
      "Raymon Anthony Doane\n"
     ]
    }
   ],
   "source": [
    "#list of candidates\n",
    "people = poll_df['Candidate'].unique()\n",
    "\n",
    "print(people)"
   ]
  },
  {
   "cell_type": "code",
   "execution_count": 18,
   "id": "a18d9f16",
   "metadata": {},
   "outputs": [
    {
     "name": "stdout",
     "output_type": "stream",
     "text": [
      "Charles Casper Stockham: 23.05 (85213)\n"
     ]
    }
   ],
   "source": [
    "#find total votes and votes % for Charles Casper Stockham\n",
    "stockham_votes = poll_df.loc[poll_df['Candidate'] == 'Charles Casper Stockham', 'Ballot ID'].count()\n",
    "stockham_pres = \"{:.2f}\".format((stockham_votes / vote_count) * 100)\n",
    "\n",
    "print(f'Charles Casper Stockham: {stockham_pres} ({stockham_votes})')"
   ]
  },
  {
   "cell_type": "code",
   "execution_count": 20,
   "id": "43301e9e",
   "metadata": {},
   "outputs": [
    {
     "name": "stdout",
     "output_type": "stream",
     "text": [
      "Diana DeGette: 73.81 (272892)\n"
     ]
    }
   ],
   "source": [
    "#find total votes and votes % for Diana DeGette\n",
    "DeGette_votes = poll_df.loc[poll_df['Candidate'] == 'Diana DeGette', 'Ballot ID'].count()\n",
    "DeGette_pres = \"{:.2f}\".format((DeGette_votes / vote_count) * 100)\n",
    "\n",
    "print(f'Diana DeGette: {DeGette_pres} ({DeGette_votes})')"
   ]
  },
  {
   "cell_type": "code",
   "execution_count": 22,
   "id": "5b8e73ac",
   "metadata": {},
   "outputs": [
    {
     "name": "stdout",
     "output_type": "stream",
     "text": [
      "Raymond Anthony Doane: 3.14 (11606)\n"
     ]
    }
   ],
   "source": [
    "#find total votes and votes % for Raymon Anthony Doane\n",
    "doane_votes = poll_df.loc[poll_df['Candidate'] == 'Raymon Anthony Doane', 'Ballot ID'].count()\n",
    "doane_pres = \"{:.2f}\".format((doane_votes / vote_count) * 100)\n",
    "\n",
    "print(f'Raymond Anthony Doane: {doane_pres} ({doane_votes})')"
   ]
  },
  {
   "cell_type": "code",
   "execution_count": 27,
   "id": "27b4fed6",
   "metadata": {},
   "outputs": [
    {
     "name": "stdout",
     "output_type": "stream",
     "text": [
      "Election Results\n",
      "------------------------------------\n",
      "Total Votes: 369711\n",
      "\n",
      "Charles Casper Stockham: 23.05% (85213)\n",
      "Diana DeGette: 73.81% (272892)\n",
      "Diana DeGette: 3.14% (11606)\n",
      "------------------------------------\n",
      "Winner: Diana DeGette\n"
     ]
    }
   ],
   "source": [
    "#Print final election results and winner\n",
    "\n",
    "print('Election Results')\n",
    "print('------------------------------------')\n",
    "print(f'Total Votes: {vote_count}')\n",
    "print('')\n",
    "print(f'Charles Casper Stockham: {stockham_pres}% ({stockham_votes})')\n",
    "print(f'Diana DeGette: {DeGette_pres}% ({DeGette_votes})')\n",
    "print(f'Diana DeGette: {doane_pres}% ({doane_votes})')\n",
    "print('------------------------------------')\n",
    "print(f'Winner: {people[1]}')"
   ]
  },
  {
   "cell_type": "code",
   "execution_count": null,
   "id": "01fc0d80",
   "metadata": {},
   "outputs": [],
   "source": []
  }
 ],
 "metadata": {
  "kernelspec": {
   "display_name": "Python 3 (ipykernel)",
   "language": "python",
   "name": "python3"
  },
  "language_info": {
   "codemirror_mode": {
    "name": "ipython",
    "version": 3
   },
   "file_extension": ".py",
   "mimetype": "text/x-python",
   "name": "python",
   "nbconvert_exporter": "python",
   "pygments_lexer": "ipython3",
   "version": "3.10.11"
  }
 },
 "nbformat": 4,
 "nbformat_minor": 5
}
