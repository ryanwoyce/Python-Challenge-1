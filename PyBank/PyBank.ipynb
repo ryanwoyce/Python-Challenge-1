{
 "cells": [
  {
   "cell_type": "code",
   "execution_count": 1,
   "id": "e3fd5aa3",
   "metadata": {},
   "outputs": [
    {
     "data": {
      "text/html": [
       "<div>\n",
       "<style scoped>\n",
       "    .dataframe tbody tr th:only-of-type {\n",
       "        vertical-align: middle;\n",
       "    }\n",
       "\n",
       "    .dataframe tbody tr th {\n",
       "        vertical-align: top;\n",
       "    }\n",
       "\n",
       "    .dataframe thead th {\n",
       "        text-align: right;\n",
       "    }\n",
       "</style>\n",
       "<table border=\"1\" class=\"dataframe\">\n",
       "  <thead>\n",
       "    <tr style=\"text-align: right;\">\n",
       "      <th></th>\n",
       "      <th>Date</th>\n",
       "      <th>Profit/Losses</th>\n",
       "    </tr>\n",
       "  </thead>\n",
       "  <tbody>\n",
       "    <tr>\n",
       "      <th>0</th>\n",
       "      <td>Jan-10</td>\n",
       "      <td>1088983</td>\n",
       "    </tr>\n",
       "    <tr>\n",
       "      <th>1</th>\n",
       "      <td>Feb-10</td>\n",
       "      <td>-354534</td>\n",
       "    </tr>\n",
       "    <tr>\n",
       "      <th>2</th>\n",
       "      <td>Mar-10</td>\n",
       "      <td>276622</td>\n",
       "    </tr>\n",
       "    <tr>\n",
       "      <th>3</th>\n",
       "      <td>Apr-10</td>\n",
       "      <td>-728133</td>\n",
       "    </tr>\n",
       "    <tr>\n",
       "      <th>4</th>\n",
       "      <td>May-10</td>\n",
       "      <td>852993</td>\n",
       "    </tr>\n",
       "    <tr>\n",
       "      <th>...</th>\n",
       "      <td>...</td>\n",
       "      <td>...</td>\n",
       "    </tr>\n",
       "    <tr>\n",
       "      <th>81</th>\n",
       "      <td>Oct-16</td>\n",
       "      <td>-729004</td>\n",
       "    </tr>\n",
       "    <tr>\n",
       "      <th>82</th>\n",
       "      <td>Nov-16</td>\n",
       "      <td>-112209</td>\n",
       "    </tr>\n",
       "    <tr>\n",
       "      <th>83</th>\n",
       "      <td>Dec-16</td>\n",
       "      <td>516313</td>\n",
       "    </tr>\n",
       "    <tr>\n",
       "      <th>84</th>\n",
       "      <td>Jan-17</td>\n",
       "      <td>607208</td>\n",
       "    </tr>\n",
       "    <tr>\n",
       "      <th>85</th>\n",
       "      <td>Feb-17</td>\n",
       "      <td>382539</td>\n",
       "    </tr>\n",
       "  </tbody>\n",
       "</table>\n",
       "<p>86 rows × 2 columns</p>\n",
       "</div>"
      ],
      "text/plain": [
       "      Date  Profit/Losses\n",
       "0   Jan-10        1088983\n",
       "1   Feb-10        -354534\n",
       "2   Mar-10         276622\n",
       "3   Apr-10        -728133\n",
       "4   May-10         852993\n",
       "..     ...            ...\n",
       "81  Oct-16        -729004\n",
       "82  Nov-16        -112209\n",
       "83  Dec-16         516313\n",
       "84  Jan-17         607208\n",
       "85  Feb-17         382539\n",
       "\n",
       "[86 rows x 2 columns]"
      ]
     },
     "execution_count": 1,
     "metadata": {},
     "output_type": "execute_result"
    }
   ],
   "source": [
    "#import dependencies\n",
    "import pandas as pd\n",
    "\n",
    "#Read CSV file as DataFrame\n",
    "bank_df = pd.read_csv('budget_data.csv')\n",
    "bank_df"
   ]
  },
  {
   "cell_type": "code",
   "execution_count": 4,
   "id": "6bb94f3e",
   "metadata": {},
   "outputs": [
    {
     "name": "stdout",
     "output_type": "stream",
     "text": [
      "Total Months: 86\n"
     ]
    }
   ],
   "source": [
    "#count total months \n",
    "month_count = bank_df['Date'].count()\n",
    "\n",
    "print(f'Total Months: {month_count}')"
   ]
  },
  {
   "cell_type": "code",
   "execution_count": 33,
   "id": "322d70d9",
   "metadata": {},
   "outputs": [
    {
     "name": "stdout",
     "output_type": "stream",
     "text": [
      "Total: $22,564,198\n"
     ]
    }
   ],
   "source": [
    "#Calculate total of 'Profit/Losses'\n",
    "total = sum(bank_df['Profit/Losses'])\n",
    "\n",
    "print(f'Total: ${\"{:,}\".format(total)}')"
   ]
  },
  {
   "cell_type": "code",
   "execution_count": 14,
   "id": "3dd255aa",
   "metadata": {},
   "outputs": [
    {
     "data": {
      "text/html": [
       "<div>\n",
       "<style scoped>\n",
       "    .dataframe tbody tr th:only-of-type {\n",
       "        vertical-align: middle;\n",
       "    }\n",
       "\n",
       "    .dataframe tbody tr th {\n",
       "        vertical-align: top;\n",
       "    }\n",
       "\n",
       "    .dataframe thead th {\n",
       "        text-align: right;\n",
       "    }\n",
       "</style>\n",
       "<table border=\"1\" class=\"dataframe\">\n",
       "  <thead>\n",
       "    <tr style=\"text-align: right;\">\n",
       "      <th></th>\n",
       "      <th>Date</th>\n",
       "      <th>Profit/Losses</th>\n",
       "      <th>Change</th>\n",
       "    </tr>\n",
       "  </thead>\n",
       "  <tbody>\n",
       "    <tr>\n",
       "      <th>76</th>\n",
       "      <td>2016-05-01</td>\n",
       "      <td>518681</td>\n",
       "      <td>-143603.0</td>\n",
       "    </tr>\n",
       "    <tr>\n",
       "      <th>77</th>\n",
       "      <td>2016-06-01</td>\n",
       "      <td>-748256</td>\n",
       "      <td>-1266937.0</td>\n",
       "    </tr>\n",
       "    <tr>\n",
       "      <th>78</th>\n",
       "      <td>2016-07-01</td>\n",
       "      <td>-910775</td>\n",
       "      <td>-162519.0</td>\n",
       "    </tr>\n",
       "    <tr>\n",
       "      <th>79</th>\n",
       "      <td>2016-08-01</td>\n",
       "      <td>951227</td>\n",
       "      <td>1862002.0</td>\n",
       "    </tr>\n",
       "    <tr>\n",
       "      <th>80</th>\n",
       "      <td>2016-09-01</td>\n",
       "      <td>898241</td>\n",
       "      <td>-52986.0</td>\n",
       "    </tr>\n",
       "    <tr>\n",
       "      <th>81</th>\n",
       "      <td>2016-10-01</td>\n",
       "      <td>-729004</td>\n",
       "      <td>-1627245.0</td>\n",
       "    </tr>\n",
       "    <tr>\n",
       "      <th>82</th>\n",
       "      <td>2016-11-01</td>\n",
       "      <td>-112209</td>\n",
       "      <td>616795.0</td>\n",
       "    </tr>\n",
       "    <tr>\n",
       "      <th>83</th>\n",
       "      <td>2016-12-01</td>\n",
       "      <td>516313</td>\n",
       "      <td>628522.0</td>\n",
       "    </tr>\n",
       "    <tr>\n",
       "      <th>84</th>\n",
       "      <td>2017-01-01</td>\n",
       "      <td>607208</td>\n",
       "      <td>90895.0</td>\n",
       "    </tr>\n",
       "    <tr>\n",
       "      <th>85</th>\n",
       "      <td>2017-02-01</td>\n",
       "      <td>382539</td>\n",
       "      <td>-224669.0</td>\n",
       "    </tr>\n",
       "  </tbody>\n",
       "</table>\n",
       "</div>"
      ],
      "text/plain": [
       "         Date  Profit/Losses     Change\n",
       "76 2016-05-01         518681  -143603.0\n",
       "77 2016-06-01        -748256 -1266937.0\n",
       "78 2016-07-01        -910775  -162519.0\n",
       "79 2016-08-01         951227  1862002.0\n",
       "80 2016-09-01         898241   -52986.0\n",
       "81 2016-10-01        -729004 -1627245.0\n",
       "82 2016-11-01        -112209   616795.0\n",
       "83 2016-12-01         516313   628522.0\n",
       "84 2017-01-01         607208    90895.0\n",
       "85 2017-02-01         382539  -224669.0"
      ]
     },
     "execution_count": 14,
     "metadata": {},
     "output_type": "execute_result"
    }
   ],
   "source": [
    "#Adding the differnce to a new column called 'Change'\n",
    "\n",
    "bank_df['Change'] = bank_df['Profit/Losses'].diff()\n",
    "bank_df"
   ]
  },
  {
   "cell_type": "code",
   "execution_count": 27,
   "id": "2e86981a",
   "metadata": {},
   "outputs": [
    {
     "name": "stdout",
     "output_type": "stream",
     "text": [
      "       Profit/Losses        Change\n",
      "count   8.600000e+01  8.500000e+01\n",
      "mean    2.623744e+05 -8.311106e+03\n",
      "std     6.244057e+05  8.896487e+05\n",
      "min    -1.194133e+06 -1.825558e+06\n",
      "25%    -1.944645e+05 -5.992100e+05\n",
      "50%     4.528330e+05 -5.227500e+04\n",
      "75%     7.494155e+05  6.311560e+05\n",
      "max     1.141840e+06  1.862002e+06\n",
      "Average Change: $-8,311.106\n",
      "Greatest Increase in Profits: $1,862,002.0\n",
      "Greatest Decrease in Profits: $-1,825,558.0\n"
     ]
    }
   ],
   "source": [
    "#Retrive the summary statistics of the bank_df\n",
    "print(bank_df.describe())\n",
    "#After locating the mean, max, and min for 'Change' save the values to a variable\n",
    "average_change = -8.311106e+03\n",
    "great_in = 1.862002e+06\n",
    "great_de = -1.825558e+06\n",
    "\n",
    "\n",
    "print(f'Average Change: ${\"{:,}\".format(average_change)}')\n",
    "print(f'Greatest Increase in Profits: ${\"{:,}\".format(great_in)}')\n",
    "print(f'Greatest Decrease in Profits: ${\"{:,}\".format(great_de)}')"
   ]
  },
  {
   "cell_type": "code",
   "execution_count": 40,
   "id": "549ba922",
   "metadata": {},
   "outputs": [
    {
     "name": "stdout",
     "output_type": "stream",
     "text": [
      "Finacial Analysis\n",
      "PyBank: January 2010 - Febuary 2017\n",
      "---------------------------------------------------------\n",
      "Total Months: 86\n",
      "Total: $22,564,198\n",
      "Average Change: $-8,311.106\n",
      "Greatest Increase in Profits: $1,862,002.0\n",
      "Greatest Decrease in Profits: $-1,825,558.0\n"
     ]
    }
   ],
   "source": [
    "#Final print statement with all of the Statistics\n",
    "print('Finacial Analysis')\n",
    "print('PyBank: January 2010 - Febuary 2017')\n",
    "print('---------------------------------------------------------')\n",
    "print(f'Total Months: {month_count}')\n",
    "print(f'Total: ${\"{:,}\".format(total)}')\n",
    "print(f'Average Change: ${\"{:,}\".format(average_change)}')\n",
    "print(f'Greatest Increase in Profits: ${\"{:,}\".format(great_in)}')\n",
    "print(f'Greatest Decrease in Profits: ${\"{:,}\".format(great_de)}')"
   ]
  },
  {
   "cell_type": "code",
   "execution_count": null,
   "id": "8e943157",
   "metadata": {},
   "outputs": [],
   "source": []
  }
 ],
 "metadata": {
  "kernelspec": {
   "display_name": "Python 3 (ipykernel)",
   "language": "python",
   "name": "python3"
  },
  "language_info": {
   "codemirror_mode": {
    "name": "ipython",
    "version": 3
   },
   "file_extension": ".py",
   "mimetype": "text/x-python",
   "name": "python",
   "nbconvert_exporter": "python",
   "pygments_lexer": "ipython3",
   "version": "3.10.11"
  }
 },
 "nbformat": 4,
 "nbformat_minor": 5
}
